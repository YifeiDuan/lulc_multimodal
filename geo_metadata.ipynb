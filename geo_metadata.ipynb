{
 "cells": [
  {
   "cell_type": "code",
   "execution_count": 2,
   "metadata": {},
   "outputs": [
    {
     "name": "stdout",
     "output_type": "stream",
     "text": [
      "Center coordinates: 4876961.22577375, 624927.4203181615\n",
      "EPSG:32635\n"
     ]
    }
   ],
   "source": [
    "import rasterio\n",
    "from rasterio.transform import xy\n",
    "\n",
    "with rasterio.open(\"../../Data/AnnualCrop_1.tif\") as src:\n",
    "    # Get the lat/lon of the center pixel\n",
    "    center_x = src.width // 2\n",
    "    center_y = src.height // 2\n",
    "    lon, lat = xy(src.transform, center_y, center_x)\n",
    "    print(f\"Center coordinates: {lat}, {lon}\")\n",
    "\n",
    "    print(src.crs)"
   ]
  },
  {
   "cell_type": "code",
   "execution_count": 3,
   "metadata": {},
   "outputs": [
    {
     "name": "stdout",
     "output_type": "stream",
     "text": [
      "Latitude: 44.035174297149474, Longitude: 28.559116105686496\n"
     ]
    }
   ],
   "source": [
    "from pyproj import Transformer\n",
    "\n",
    "# EPSG:32632 = UTM zone 32N (WGS84)\n",
    "transformer = Transformer.from_crs(\"EPSG:32635\", \"epsg:4326\", always_xy=True)\n",
    "\n",
    "easting = 624927.4203181615\n",
    "northing = 4876961.22577375\n",
    "\n",
    "lon, lat = transformer.transform(easting, northing)\n",
    "print(f\"Latitude: {lat}, Longitude: {lon}\")"
   ]
  },
  {
   "cell_type": "code",
   "execution_count": null,
   "metadata": {},
   "outputs": [],
   "source": []
  }
 ],
 "metadata": {
  "kernelspec": {
   "display_name": "lulc",
   "language": "python",
   "name": "python3"
  },
  "language_info": {
   "codemirror_mode": {
    "name": "ipython",
    "version": 3
   },
   "file_extension": ".py",
   "mimetype": "text/x-python",
   "name": "python",
   "nbconvert_exporter": "python",
   "pygments_lexer": "ipython3",
   "version": "3.12.10"
  }
 },
 "nbformat": 4,
 "nbformat_minor": 2
}
